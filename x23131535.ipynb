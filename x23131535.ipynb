{
 "cells": [
  {
   "cell_type": "markdown",
   "id": "4eaa9999",
   "metadata": {},
   "source": [
    "**Question 1**\n"
   ]
  },
  {
   "cell_type": "markdown",
   "id": "8b4f5676",
   "metadata": {},
   "source": [
    "Question 1a"
   ]
  },
  {
   "cell_type": "code",
   "execution_count": 2,
   "id": "f423aa90",
   "metadata": {},
   "outputs": [
    {
     "name": "stdout",
     "output_type": "stream",
     "text": [
      "XML file successfully imported.\n"
     ]
    }
   ],
   "source": [
    "# Creating a function to import an XML file\n",
    "import xml.etree.ElementTree as ET\n",
    "\n",
    "#parse the xml document\n",
    "xmlfile = 'NorthWind.xml'\n",
    "\n",
    "def import_xml_file(xmlfile):\n",
    "    try:\n",
    "        xmldata = open(xmlfile, 'r')\n",
    "        xmltree = ET.fromstring(xmldata.read())\n",
    "        return xmltree\n",
    "    except FileNotFoundError:\n",
    "        print(f\"Could not open the file:\".format(xmlfile))\n",
    "    except IOError:\n",
    "        print(f\"Could not read from the file:\".format(xmlfile))\n",
    "    finally:\n",
    "        xmldata.close()\n",
    "    return None\n",
    "\n",
    "\n",
    "# Call the import_xml_file function to load the XML file\n",
    "xml_data = import_xml_file(xmlfile)\n",
    "\n",
    "if xml_data is not None:\n",
    "    # You can now work with the 'xml_data' variable, which contains the XML tree.\n",
    "    # For example, you can access elements and attributes using xml_data.findall(), xml_data.find(), etc.\n",
    "    print(\"XML file successfully imported.\")\n",
    "else:\n",
    "    print(\"XML file import failed.\")\n",
    "    "
   ]
  },
  {
   "cell_type": "markdown",
   "id": "9e960233",
   "metadata": {},
   "source": [
    "Question 2b"
   ]
  },
  {
   "cell_type": "code",
   "execution_count": 8,
   "id": "658e5cb9",
   "metadata": {},
   "outputs": [
    {
     "name": "stdout",
     "output_type": "stream",
     "text": [
      "CustomerID:HILAA\tShipCity:San Cristóbal\tShipCountry:Venezuela\n",
      "CustomerID:OTTIK\tShipCity:Köln\tShipCountry:Germany\n",
      "CustomerID:ERNSH\tShipCity:Graz\tShipCountry:Austria\n",
      "CustomerID:WARTH\tShipCity:Oulu\tShipCountry:Finland\n"
     ]
    }
   ],
   "source": [
    "#CustomerID, OrderID, ShipCity, ShipCountry\n",
    "\n",
    "parsed_xml =[]\n",
    "for i in range(10,20,3) :\n",
    "    product = xml_data.find(f\".//Order[{i}]\")\n",
    "    CustomerID = product.find('CustomerID').text\n",
    "    #OrderID = product.find('OrderID').text\n",
    "    ShipCity = product.find('ShipCity').text\n",
    "    ShipCountry = product.find('ShipCountry').text\n",
    "    \n",
    "    results =('CustomerID:{}\\tShipCity:{}\\tShipCountry:{}'.format(CustomerID,ShipCity,ShipCountry))\n",
    "    parsed_xml.append(results)\n",
    "    \n",
    "    \n",
    "    print('CustomerID:{}\\tShipCity:{}\\tShipCountry:{}'.format(CustomerID,ShipCity,ShipCountry))"
   ]
  },
  {
   "cell_type": "markdown",
   "id": "c9157e61",
   "metadata": {},
   "source": [
    "Question 1c"
   ]
  },
  {
   "cell_type": "code",
   "execution_count": 66,
   "id": "5cfb1f8c",
   "metadata": {},
   "outputs": [
    {
     "name": "stdout",
     "output_type": "stream",
     "text": [
      "Customer data from ID 5 successfully exported to 'customers.csv'\n"
     ]
    }
   ],
   "source": [
    "import xml.etree.ElementTree as ET\n",
    "import csv\n",
    "\n",
    "# Function to import an XML file (similar to what we've discussed before)\n",
    "def import_xml_file(xml_file_path):\n",
    "    try:\n",
    "        xmldata = open(xml_file_path, 'r')\n",
    "        xmltree = ET.fromstring(xmldata.read())\n",
    "        return xmltree\n",
    "    except FileNotFoundError:\n",
    "        print(f\"Could not open the file: {xml_file_path}\")\n",
    "    except IOError:\n",
    "        print(f\"Could not read from the file: {xml_file_path}\")\n",
    "    finally:\n",
    "        xmldata.close()\n",
    "    return None\n",
    "\n",
    "# Function to extract customer data and save it to a CSV file\n",
    "def extract_customers_to_csv(xml_tree, csv_file_path):\n",
    "    if xml_tree is not None:\n",
    "        # Open the CSV file for writing\n",
    "        with open(csv_file_path, 'w', newline='') as csvfile:\n",
    "            csvwriter = csv.writer(csvfile)\n",
    "\n",
    "            # Write the header row (column names)\n",
    "            header = ['CustomerID', 'ShipCountry', 'ShipCity']\n",
    "            csvwriter.writerow(header)\n",
    "\n",
    "            # Iterate through 'entry' elements to extract and write data\n",
    "            for customer in xml_tree.find(\"Customers\").findall(\"Customer\"):\n",
    "                customer_data = {\n",
    "                    'CustomerID': customer.get('CustomerID'),\n",
    "                    'ShipCountry': customer.find('CompanyName').text,\n",
    "                    'ShipCity': customer.find('ContactName').text,\n",
    "                    #'PostalCode': customer.find('PostalCode').text,\n",
    "                }\n",
    "\n",
    "                # Check if the customer has ID 5 before writing to the CSV\n",
    "                if customer.find('CountryID') == 5:\n",
    "                    csvwriter.writerow([customer_data[field] for field in header])\n",
    "\n",
    "        print(f\"Customer data from ID 5 successfully exported to '{csv_file_path}'\")\n",
    "    else:\n",
    "        print(\"XML file import failed.\")\n",
    "\n",
    "# XML file path\n",
    "xmlfile = 'NorthWind.xml'  \n",
    "\n",
    "# CSV file path\n",
    "csvfile = 'customers.csv'  # Specify the output CSV file path\n",
    "\n",
    "# Import the XML file\n",
    "xml_data = import_xml_file(xmlfile)\n",
    "\n",
    "# Extract and write customer data to a CSV file\n",
    "extract_customers_to_csv(xml_data, csvfile)\n"
   ]
  },
  {
   "cell_type": "markdown",
   "id": "ad0c96b0",
   "metadata": {},
   "source": [
    "#### Question 2\n"
   ]
  },
  {
   "cell_type": "markdown",
   "id": "5b32fe09",
   "metadata": {},
   "source": [
    "Question 2a\n"
   ]
  },
  {
   "cell_type": "code",
   "execution_count": 39,
   "id": "9ec0a758",
   "metadata": {},
   "outputs": [
    {
     "name": "stdout",
     "output_type": "stream",
     "text": [
      "[[[1000 1002 1004 ... 1014 1016 1018]\n",
      "  [1020 1022 1024 ... 1034 1036 1038]\n",
      "  [1040 1042 1044 ... 1054 1056 1058]\n",
      "  ...\n",
      "  [1940 1942 1944 ... 1954 1956 1958]\n",
      "  [1960 1962 1964 ... 1974 1976 1978]\n",
      "  [1980 1982 1984 ... 1994 1996 1998]]\n",
      "\n",
      " [[2000 2002 2004 ... 2014 2016 2018]\n",
      "  [2020 2022 2024 ... 2034 2036 2038]\n",
      "  [2040 2042 2044 ... 2054 2056 2058]\n",
      "  ...\n",
      "  [2940 2942 2944 ... 2954 2956 2958]\n",
      "  [2960 2962 2964 ... 2974 2976 2978]\n",
      "  [2980 2982 2984 ... 2994 2996 2998]]\n",
      "\n",
      " [[3000 3002 3004 ... 3014 3016 3018]\n",
      "  [3020 3022 3024 ... 3034 3036 3038]\n",
      "  [3040 3042 3044 ... 3054 3056 3058]\n",
      "  ...\n",
      "  [3940 3942 3944 ... 3954 3956 3958]\n",
      "  [3960 3962 3964 ... 3974 3976 3978]\n",
      "  [3980 3982 3984 ... 3994 3996 3998]]\n",
      "\n",
      " ...\n",
      "\n",
      " [[6000 6002 6004 ... 6014 6016 6018]\n",
      "  [6020 6022 6024 ... 6034 6036 6038]\n",
      "  [6040 6042 6044 ... 6054 6056 6058]\n",
      "  ...\n",
      "  [6940 6942 6944 ... 6954 6956 6958]\n",
      "  [6960 6962 6964 ... 6974 6976 6978]\n",
      "  [6980 6982 6984 ... 6994 6996 6998]]\n",
      "\n",
      " [[7000 7002 7004 ... 7014 7016 7018]\n",
      "  [7020 7022 7024 ... 7034 7036 7038]\n",
      "  [7040 7042 7044 ... 7054 7056 7058]\n",
      "  ...\n",
      "  [7940 7942 7944 ... 7954 7956 7958]\n",
      "  [7960 7962 7964 ... 7974 7976 7978]\n",
      "  [7980 7982 7984 ... 7994 7996 7998]]\n",
      "\n",
      " [[8000 8002 8004 ... 8014 8016 8018]\n",
      "  [8020 8022 8024 ... 8034 8036 8038]\n",
      "  [8040 8042 8044 ... 8054 8056 8058]\n",
      "  ...\n",
      "  [8940 8942 8944 ... 8954 8956 8958]\n",
      "  [8960 8962 8964 ... 8974 8976 8978]\n",
      "  [8980 8982 8984 ... 8994 8996 8998]]]\n"
     ]
    }
   ],
   "source": [
    "import numpy as np\n",
    "\n",
    "# Create an ndarray with even numbers between 1000 and 8998\n",
    "array_a = np.arange(1000, 8999, 2)\n",
    "\n",
    "# Reshape the array to have 8 layers, 50 rows, and 10 columns\n",
    "reshaped_array_a = array_a.reshape(8, 50, 10)\n",
    "\n",
    "# Print the result\n",
    "print(reshaped_array_a)\n"
   ]
  },
  {
   "cell_type": "markdown",
   "id": "1fbcd970",
   "metadata": {},
   "source": [
    "Question 2b"
   ]
  },
  {
   "cell_type": "code",
   "execution_count": 86,
   "id": "e22445ae",
   "metadata": {},
   "outputs": [
    {
     "name": "stdout",
     "output_type": "stream",
     "text": [
      "Mean values for the last 3 rows in the 4th layer:\n",
      "[4949. 4969. 4989.]\n"
     ]
    }
   ],
   "source": [
    "\n",
    "\n",
    "selected_rows = reshaped_array_a[3, -3:, :]\n",
    "\n",
    "#Calculate the mean along the columns (axis=1) to get a 1D array with 3 mean values\n",
    "means = np.mean(selected_rows, axis=1)\n",
    "\n",
    "#Printing mean value for last 3 rows in the 4th layer\n",
    "print(\"Mean values for the last 3 rows in the 4th layer:\")\n",
    "print(means)"
   ]
  },
  {
   "cell_type": "markdown",
   "id": "3cb23008",
   "metadata": {},
   "source": [
    "Question 2c"
   ]
  },
  {
   "cell_type": "code",
   "execution_count": 88,
   "id": "f81e11e3",
   "metadata": {},
   "outputs": [
    {
     "name": "stdout",
     "output_type": "stream",
     "text": [
      "0\n"
     ]
    }
   ],
   "source": [
    "import numpy as np\n",
    "\n",
    "# Assuming you have already created and reshaped array_a as specified\n",
    "\n",
    "# Extract the first 4 columns across all layers\n",
    "first_4_columns_all_layers = reshaped_array_a[:, :, :4]\n",
    "\n",
    "# Compute the product of all cells\n",
    "result = np.prod(first_4_columns_all_layers)\n",
    "\n",
    "# Print the result\n",
    "print(result)\n"
   ]
  },
  {
   "cell_type": "markdown",
   "id": "d90a0875",
   "metadata": {},
   "source": [
    "Question 2 (d)"
   ]
  },
  {
   "cell_type": "code",
   "execution_count": 89,
   "id": "45f6b09f",
   "metadata": {},
   "outputs": [
    {
     "name": "stdout",
     "output_type": "stream",
     "text": [
      "[480.         497.29591837 514.89795918 532.80612245 551.02040816\n",
      " 569.54081633 588.36734694 607.5        626.93877551 646.68367347\n",
      " 666.73469388 687.09183673 707.75510204 728.7244898  750.        ]\n"
     ]
    }
   ],
   "source": [
    "import numpy as np\n",
    "\n",
    "# Create array_b with evenly spaced values from 60 to 75\n",
    "array_b = np.linspace(60, 75, 15)\n",
    "\n",
    "# Create array_c with evenly spaced values from 8 to 10\n",
    "array_c = np.linspace(8, 10, 15)\n",
    "\n",
    "# Perform element-wise multiplication between array_b and array_c\n",
    "result = array_b * array_c\n",
    "\n",
    "# Print the result\n",
    "print(result)\n"
   ]
  },
  {
   "cell_type": "markdown",
   "id": "ed70bab6",
   "metadata": {},
   "source": [
    "***Question 3***"
   ]
  },
  {
   "cell_type": "code",
   "execution_count": 90,
   "id": "70d985b3",
   "metadata": {},
   "outputs": [],
   "source": [
    "def count_valid_emails(input_string):\n",
    "    email_pattern = r'\\b[A-Za-z0-9._%+-]+@[A-Za-z0-9.-]+\\.[A-Z|a-z]{2,7}\\b'\n",
    "\n",
    "    valid_emails = re.findall(email_pattern, input_string)\n",
    "\n",
    "    # Filter the valid email addresses to remove those containing \"@\" more than once.\n",
    "    valid_emails = [email for email in valid_emails if email.count('@') == 1]\n",
    "\n",
    "    return len(valid_emails)\n"
   ]
  },
  {
   "cell_type": "code",
   "execution_count": 82,
   "id": "6081a86f",
   "metadata": {},
   "outputs": [
    {
     "name": "stdout",
     "output_type": "stream",
     "text": [
      "Number of valid email addresses found: 2\n"
     ]
    }
   ],
   "source": [
    "#Testing the to see whih emails are valid and which emails are invalid\n",
    "text = \"Contact us at user@server@domain.com or thapelo@gmail.com for more information.\"\n",
    "count = count_valid_emails(text)\n",
    "print(f\"Number of valid email addresses found: {count}\")\n"
   ]
  }
 ],
 "metadata": {
  "kernelspec": {
   "display_name": "Python 3 (ipykernel)",
   "language": "python",
   "name": "python3"
  },
  "language_info": {
   "codemirror_mode": {
    "name": "ipython",
    "version": 3
   },
   "file_extension": ".py",
   "mimetype": "text/x-python",
   "name": "python",
   "nbconvert_exporter": "python",
   "pygments_lexer": "ipython3",
   "version": "3.11.5"
  }
 },
 "nbformat": 4,
 "nbformat_minor": 5
}
